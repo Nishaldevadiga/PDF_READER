{
 "cells": [
  {
   "cell_type": "markdown",
   "id": "d17a975f-c0d9-4d93-96dc-799ed1e48e1a",
   "metadata": {},
   "source": [
    "<h1>pymupdf</h1>"
   ]
  },
  {
   "cell_type": "code",
   "execution_count": 23,
   "id": "e5211201-eb59-495d-bd39-3d368985adaa",
   "metadata": {},
   "outputs": [],
   "source": [
    "import pymupdf"
   ]
  },
  {
   "cell_type": "code",
   "execution_count": 25,
   "id": "5c52113c-5bcd-4ecd-8cc2-cba0ab61223e",
   "metadata": {},
   "outputs": [],
   "source": [
    "doc = pymupdf.open(\"upload_image.pdf\") # open a document"
   ]
  },
  {
   "cell_type": "code",
   "execution_count": 27,
   "id": "d8d3ac66-9b81-4bf7-b078-50ada81576db",
   "metadata": {},
   "outputs": [
    {
     "name": "stdout",
     "output_type": "stream",
     "text": [
      "Jupyter Notebook Assignment Report\n",
      "Student: Nishal Sukumar\n",
      "Assignment: Nishal_Sukumar_Assignment_1\n",
      "Date: 2025-04-16 21:21\n",
      "# ---- EDA ----\n",
      "stdout: Shape of dataset: (20640, 9)\n",
      "First 5 rows:\n",
      "    MedInc  HouseAge  AveRooms  AveBedrms  Population  AveOccup  Latitude  \\\n",
      "0  8.3252      41.0  6.984127   1.023810       322.0  2.555556     37.88   \n",
      "1  8.3014      21.0  6.238137   0.971880      2401.0  2.109842     37.86   \n",
      "2  7.2574      52.0  8.288136   1.073446       496.0  2.802260     37.85   \n",
      "3  5.6431      52.0  5.817352   1.073059       558.0  2.547945     37.85   \n",
      "4  3.8462      52.0  6.281853   1.081081       565.0  2.181467     37.85   \n",
      "   Longitude  Target  \n",
      "0    -122.23   4.526  \n",
      "1    -122.22   3.585  \n",
      "2    -122.24   3.521  \n",
      "3    -122.25   3.413  \n",
      "4    -122.25   3.422  \n",
      "Summary statistics:\n",
      "              MedInc      HouseAge      AveRooms     AveBedrms    Population  \\\n",
      "count  20640.000000  20640.000000  20640.000000  20640.000000  20640.000000   \n",
      "mean       3.870671     28.639486      5.429000      1.096675   1425.476744   \n",
      "std        1.899822     12.585558      2.474173      0.473911   1132.462122   \n",
      "min        0.499900      1.000000      0.846154      0.333333      3.000000   \n",
      "25%        2.563400     18.000000      4.440716      1.006079    787.000000   \n",
      "50%        3.534800     29.000000      5.229129      1.048780   1166.000000   \n",
      "75%        4.743250     37.000000      6.052381      1.099526   1725.000000   \n",
      "max       15.000100     52.000000    141.909091     34.066667  35682.000000   \n",
      "           AveOccup      Latitude     Longitude        Target  \n",
      "count  20640.000000  20640.000000  20640.000000  20640.000000  \n",
      "mean       3.070655     35.631861   -119.569704      2.068558  \n",
      "std       10.386050      2.135952      2.003532      1.153956  \n",
      "min        0.692308     32.540000   -124.350000      0.149990  \n",
      "25%        2.429741     33.930000   -121.800000      1.196000  \n",
      "50%        2.818116     34.260000   -118.490000      1.797000  \n",
      "75%        3.282261     37.710000   -118.010000      2.647250  \n",
      "max     1243.333333     41.950000   -114.310000      5.000010  \n",
      "stdout: \n",
      "Missing values:\n",
      " MedInc        0\n",
      "HouseAge      0\n",
      "\n",
      "AveRooms      0\n",
      "AveBedrms     0\n",
      "Population    0\n",
      "AveOccup      0\n",
      "Latitude      0\n",
      "Longitude     0\n",
      "Target        0\n",
      "dtype: int64\n",
      "<Figure size 1000x800 with 2 Axes>\n",
      "<Figure size 640x480 with 1 Axes>\n",
      "\n",
      "\n"
     ]
    }
   ],
   "source": [
    "for page in doc: # iterate the document pages\n",
    "  text = page.get_text()\n",
    "  print(text)\n"
   ]
  },
  {
   "cell_type": "code",
   "execution_count": 35,
   "id": "60285c31-655a-4535-8edb-ee894d24d58e",
   "metadata": {},
   "outputs": [
    {
     "name": "stdout",
     "output_type": "stream",
     "text": [
      "3\n"
     ]
    }
   ],
   "source": [
    "#no of pages in the document\n",
    "count=doc.page_count\n",
    "print(count)"
   ]
  },
  {
   "cell_type": "code",
   "execution_count": 39,
   "id": "0fd33f92-9282-4f8f-9b32-c7ca3fe5b5d8",
   "metadata": {},
   "outputs": [
    {
     "name": "stdout",
     "output_type": "stream",
     "text": [
      "{'format': 'PDF 1.4', 'title': '', 'author': '', 'subject': '', 'keywords': '', 'creator': '', 'producer': 'PyFPDF 1.7.2 http://pyfpdf.googlecode.com/', 'creationDate': 'D:20250416212151', 'modDate': '', 'trapped': '', 'encryption': None}\n"
     ]
    }
   ],
   "source": [
    "metadata=doc.metadata\n",
    "print(metadata)"
   ]
  },
  {
   "cell_type": "code",
   "execution_count": 45,
   "id": "03b01506-4678-4f5e-b8f8-6b18251da3e2",
   "metadata": {},
   "outputs": [
    {
     "data": {
      "text/plain": [
       "<bound method get_toc of Document('upload_image.pdf')>"
      ]
     },
     "execution_count": 45,
     "metadata": {},
     "output_type": "execute_result"
    }
   ],
   "source": [
    "table_of_contents=doc.get_toc\n",
    "table_of_contents"
   ]
  },
  {
   "cell_type": "code",
   "execution_count": 88,
   "id": "082256eb-327f-4fe3-bfa5-ece023456395",
   "metadata": {},
   "outputs": [
    {
     "name": "stdout",
     "output_type": "stream",
     "text": [
      "Jupyter Notebook Assignment Report\n",
      "Student: Nishal Sukumar\n",
      "Assignment: Nishal_Sukumar_Assignment_1\n",
      "Date: 2025-04-16 21:21\n",
      "# ---- EDA ----\n",
      "stdout: Shape of dataset: (20640, 9)\n",
      "First 5 rows:\n",
      "    MedInc  HouseAge  AveRooms  AveBedrms  Population  AveOccup  Latitude  \\\n",
      "0  8.3252      41.0  6.984127   1.023810       322.0  2.555556     37.88   \n",
      "1  8.3014      21.0  6.238137   0.971880      2401.0  2.109842     37.86   \n",
      "2  7.2574      52.0  8.288136   1.073446       496.0  2.802260     37.85   \n",
      "3  5.6431      52.0  5.817352   1.073059       558.0  2.547945     37.85   \n",
      "4  3.8462      52.0  6.281853   1.081081       565.0  2.181467     37.85   \n",
      "   Longitude  Target  \n",
      "0    -122.23   4.526  \n",
      "1    -122.22   3.585  \n",
      "2    -122.24   3.521  \n",
      "3    -122.25   3.413  \n",
      "4    -122.25   3.422  \n",
      "Summary statistics:\n",
      "              MedInc      HouseAge      AveRooms     AveBedrms    Population  \\\n",
      "count  20640.000000  20640.000000  20640.000000  20640.000000  20640.000000   \n",
      "mean       3.870671     28.639486      5.429000      1.096675   1425.476744   \n",
      "std        1.899822     12.585558      2.474173      0.473911   1132.462122   \n",
      "min        0.499900      1.000000      0.846154      0.333333      3.000000   \n",
      "25%        2.563400     18.000000      4.440716      1.006079    787.000000   \n",
      "50%        3.534800     29.000000      5.229129      1.048780   1166.000000   \n",
      "75%        4.743250     37.000000      6.052381      1.099526   1725.000000   \n",
      "max       15.000100     52.000000    141.909091     34.066667  35682.000000   \n",
      "           AveOccup      Latitude     Longitude        Target  \n",
      "count  20640.000000  20640.000000  20640.000000  20640.000000  \n",
      "mean       3.070655     35.631861   -119.569704      2.068558  \n",
      "std       10.386050      2.135952      2.003532      1.153956  \n",
      "min        0.692308     32.540000   -124.350000      0.149990  \n",
      "25%        2.429741     33.930000   -121.800000      1.196000  \n",
      "50%        2.818116     34.260000   -118.490000      1.797000  \n",
      "75%        3.282261     37.710000   -118.010000      2.647250  \n",
      "max     1243.333333     41.950000   -114.310000      5.000010  \n",
      "stdout: \n",
      "Missing values:\n",
      " MedInc        0\n",
      "HouseAge      0\n",
      "\n",
      "[]\n"
     ]
    }
   ],
   "source": [
    "load_page=doc.load_page(0)\n",
    "print(load_page.get_text())\n",
    "print(load_page.get_links())\n"
   ]
  },
  {
   "cell_type": "code",
   "execution_count": 96,
   "id": "673dcfa5-456e-4362-9f86-cea63461b52c",
   "metadata": {},
   "outputs": [],
   "source": [
    "import fitz  # PyMuPDF\n",
    "\n",
    "doc = fitz.open(\"upload_image.pdf\")\n",
    "\n",
    "for page in doc:\n",
    "    pix = page.get_pixmap()\n",
    "    pix.save(\"page-%i.png\" % page.number)\n"
   ]
  },
  {
   "cell_type": "code",
   "execution_count": 104,
   "id": "6fbdd6e7-d86f-4275-bffd-33d4231e619a",
   "metadata": {},
   "outputs": [
    {
     "name": "stdout",
     "output_type": "stream",
     "text": [
      "Saved: images/image_12.png\n",
      "Saved: images/image_14.png\n"
     ]
    }
   ],
   "source": [
    "import fitz  # PyMuPDF\n",
    "import os\n",
    "\n",
    "doc = fitz.open(\"upload_image.pdf\")\n",
    "os.makedirs(\"images\", exist_ok=True)\n",
    "\n",
    "seen_xrefs = set()  # To keep track of already extracted images\n",
    "\n",
    "for page_number in range(len(doc)):\n",
    "    page = doc.load_page(page_number)\n",
    "    images = page.get_images(full=True)\n",
    "\n",
    "    for img_index, img in enumerate(images):\n",
    "        xref = img[0]\n",
    "\n",
    "        if xref in seen_xrefs:\n",
    "            continue  # Skip if already extracted\n",
    "        seen_xrefs.add(xref)\n",
    "\n",
    "        base_image = doc.extract_image(xref)\n",
    "        image_bytes = base_image[\"image\"]\n",
    "        image_ext = base_image[\"ext\"]\n",
    "        image_filename = f\"images/image_{xref}.{image_ext}\"\n",
    "\n",
    "        with open(image_filename, \"wb\") as f:\n",
    "            f.write(image_bytes)\n",
    "\n",
    "        print(f\"Saved: {image_filename}\")\n"
   ]
  },
  {
   "cell_type": "markdown",
   "id": "ab810830-0f15-4ac4-a725-18539ef84969",
   "metadata": {},
   "source": [
    "<h1>PyMuPDF4LLM</h1>"
   ]
  },
  {
   "cell_type": "markdown",
   "id": "74193cdb-809e-44dc-8c77-c7e1fcac8568",
   "metadata": {},
   "source": [
    "<h4>PyMuPDF4LLM is aimed to make it easier to extract PDF content in the format you need for LLM & RAG environments.</h4>"
   ]
  },
  {
   "cell_type": "code",
   "execution_count": 107,
   "id": "c50988a2-4a5a-44cd-a4e2-4baa96a7f91c",
   "metadata": {},
   "outputs": [
    {
     "name": "stdout",
     "output_type": "stream",
     "text": [
      "Defaulting to user installation because normal site-packages is not writeableNote: you may need to restart the kernel to use updated packages.\n",
      "\n",
      "Collecting pymupdf4llm\n",
      "  Downloading pymupdf4llm-0.0.21-py3-none-any.whl.metadata (4.7 kB)\n",
      "Requirement already satisfied: pymupdf>=1.25.5 in c:\\users\\clark\\appdata\\roaming\\python\\python312\\site-packages (from pymupdf4llm) (1.25.5)\n",
      "Downloading pymupdf4llm-0.0.21-py3-none-any.whl (28 kB)\n",
      "Installing collected packages: pymupdf4llm\n",
      "Successfully installed pymupdf4llm-0.0.21\n"
     ]
    }
   ],
   "source": [
    "pip install pymupdf4llm"
   ]
  },
  {
   "cell_type": "markdown",
   "id": "28040f5d-4333-4385-af98-d4ac21fd7784",
   "metadata": {},
   "source": [
    "<h2>Extracting a file as Markdown</h2>"
   ]
  },
  {
   "cell_type": "code",
   "execution_count": 111,
   "id": "b0aca391-094c-4385-bd7d-88491b6870e5",
   "metadata": {},
   "outputs": [
    {
     "name": "stdout",
     "output_type": "stream",
     "text": [
      "# **Jupyter Notebook Assignment Report**\n",
      "## Student: Nishal Sukumar Assignment: Nishal_Sukumar_Assignment_1 Date: 2025-04-16 21:21 **# ---- EDA ----**\n",
      "```\n",
      "stdout: Shape of dataset: (20640, 9)\n",
      "First 5 rows:\n",
      "  MedInc HouseAge AveRooms AveBedrms Population AveOccup Latitude \\\n",
      "0 8.3252   41.0 6.984127  1.023810    322.0 2.555556   37.88 \n",
      "1 8.3014   21.0 6.238137  0.971880   2401.0 2.109842   37.86 \n",
      "2 7.2574   52.0 8.288136  1.073446    496.0 2.802260   37.85 \n",
      "3 5.6431   52.0 5.817352  1.073059    558.0 2.547945   37.85 \n",
      "4 3.8462   52.0 6.281853  1.081081    565.0 2.181467   37.85 \n",
      "  Longitude Target \n",
      "0  -122.23  4.526 \n",
      "1  -122.22  3.585 \n",
      "2  -122.24  3.521 \n",
      "3  -122.25  3.413 \n",
      "4  -122.25  3.422 \n",
      "Summary statistics:\n",
      "       MedInc   HouseAge   AveRooms   AveBedrms  Population \\\n",
      "count 20640.000000 20640.000000 20640.000000 20640.000000 20640.000000 \n",
      "mean    3.870671   28.639486   5.429000   1.096675  1425.476744 \n",
      "std    1.899822   12.585558   2.474173   0.473911  1132.462122 \n",
      "min    0.499900   1.000000   0.846154   0.333333   3.000000 \n",
      "25%    2.563400   18.000000   4.440716   1.006079  787.000000 \n",
      "50%    3.534800   29.000000   5.229129   1.048780  1166.000000 \n",
      "75%    4.743250   37.000000   6.052381   1.099526  1725.000000 \n",
      "max    15.000100   52.000000  141.909091   34.066667 35682.000000 \n",
      "      AveOccup   Latitude   Longitude    Target \n",
      "count 20640.000000 20640.000000 20640.000000 20640.000000 \n",
      "mean    3.070655   35.631861  -119.569704   2.068558 \n",
      "std    10.386050   2.135952   2.003532   1.153956 \n",
      "min    0.692308   32.540000  -124.350000   0.149990 \n",
      "25%    2.429741   33.930000  -121.800000   1.196000 \n",
      "50%    2.818116   34.260000  -118.490000   1.797000 \n",
      "75%    3.282261   37.710000  -118.010000   2.647250 \n",
      "max   1243.333333   41.950000  -114.310000   5.000010 \n",
      "stdout:\n",
      "Missing values:\n",
      " MedInc    0\n",
      "HouseAge   0\n",
      "\n",
      "```\n",
      "\n",
      "-----\n",
      "\n",
      "```\n",
      "AveRooms   0\n",
      "AveBedrms   0\n",
      "Population  0\n",
      "AveOccup   0\n",
      "Latitude   0\n",
      "Longitude   0\n",
      "Target    0\n",
      "dtype: int64\n",
      "<Figure size 1000x800 with 2 Axes>\n",
      "<Figure size 640x480 with 1 Axes>\n",
      "\n",
      "```\n",
      "\n",
      "-----\n",
      "\n",
      "-----\n",
      "\n",
      "\n"
     ]
    }
   ],
   "source": [
    "import pymupdf4llm\n",
    "md_text = pymupdf4llm.to_markdown(\"upload_image.pdf\")\n",
    "print(md_text)"
   ]
  },
  {
   "cell_type": "markdown",
   "id": "2e4f6fc8-22da-4c9c-84f0-6bbb52540df4",
   "metadata": {},
   "source": [
    "<h3>Save as md file</h3>"
   ]
  },
  {
   "cell_type": "code",
   "execution_count": 113,
   "id": "c8132fee-aa1c-49a7-9c60-896ea811307c",
   "metadata": {},
   "outputs": [
    {
     "data": {
      "text/plain": [
       "2043"
      ]
     },
     "execution_count": 113,
     "metadata": {},
     "output_type": "execute_result"
    }
   ],
   "source": [
    "import pathlib\n",
    "pathlib.Path(\"output.md\").write_bytes(md_text.encode())"
   ]
  },
  {
   "cell_type": "markdown",
   "id": "ec74be3a-4da4-49c3-b756-1ab90275d386",
   "metadata": {},
   "source": [
    "<h2>Extracting a file as a LlamaIndex document</h2>"
   ]
  },
  {
   "cell_type": "markdown",
   "id": "b8508e23-9991-42a3-998c-2038e441c21f",
   "metadata": {},
   "source": [
    "<h4>PyMuPDF4LLM supports direct conversion to a LLamaIndex document. A document is first converted into Markdown format and then a LlamaIndex document is returned as follows:</h4>"
   ]
  },
  {
   "cell_type": "code",
   "execution_count": 140,
   "id": "b71aaad1-15d6-47cc-8c2e-4ba2ddf967a0",
   "metadata": {},
   "outputs": [
    {
     "name": "stdout",
     "output_type": "stream",
     "text": [
      "# **Jupyter Notebook Assignment Report**\n",
      "## Student: Nishal Sukumar Assignment: Nishal_Sukumar_Assignment_1 Date: 2025-04-16 21:21 **# ---- EDA ----**\n",
      "```\n",
      "stdout: Shape of dataset: (20640, 9)\n",
      "First 5 rows:\n",
      "  MedInc HouseAge AveRooms AveBedrms Population AveOccup Latitude \\\n",
      "0 8.3252   41.0 6.984127  1.023810    322.0 2.555556   37.88 \n",
      "1 8.3014   21.0 6.238137  0.971880   2401.0 2.109842   37.86 \n",
      "2 7.2574   52.0 8.288136  1.073446    496.0 2.802260   37.85 \n",
      "3 5.6431   52.0 5.817352  1.073059    558.0 2.547945   37.85 \n",
      "4 3.8462   52.0 6.281853  1.081081    565.0 2.181467   37.85 \n",
      "  Longitude Target \n",
      "0  -122.23  4.526 \n",
      "1  -122.22  3.585 \n",
      "2  -122.24  3.521 \n",
      "3  -122.25  3.413 \n",
      "4  -122.25  3.422 \n",
      "Summary statistics:\n",
      "       MedInc   HouseAge   AveRooms   AveBedrms  Population \\\n",
      "count 20640.000000 20640.000000 20640.000000 20640.000000 20640.000000 \n",
      "mean    3.870671   28.639486   5.429000   1.096675  1425.476744 \n",
      "std    1.899822   12.585558   2.474173   0.473911  1132.462122 \n",
      "min    0.499900   1.000000   0.846154   0.333333   3.000000 \n",
      "25%    2.563400   18.000000   4.440716   1.006079  787.000000 \n",
      "50%    3.534800   29.000000   5.229129   1.048780  1166.000000 \n",
      "75%    4.743250   37.000000   6.052381   1.099526  1725.000000 \n",
      "max    15.000100   52.000000  141.909091   34.066667 35682.000000 \n",
      "      AveOccup   Latitude   Longitude    Target \n",
      "count 20640.000000 20640.000000 20640.000000 20640.000000 \n",
      "mean    3.070655   35.631861  -119.569704   2.068558 \n",
      "std    10.386050   2.135952   2.003532   1.153956 \n",
      "min    0.692308   32.540000  -124.350000   0.149990 \n",
      "25%    2.429741   33.930000  -121.800000   1.196000 \n",
      "50%    2.818116   34.260000  -118.490000   1.797000 \n",
      "75%    3.282261   37.710000  -118.010000   2.647250 \n",
      "max   1243.333333   41.950000  -114.310000   5.000010 \n",
      "stdout:\n",
      "Missing values:\n",
      " MedInc    0\n",
      "HouseAge   0\n",
      "\n",
      "```\n",
      "\n",
      "-----\n",
      "\n",
      "\n"
     ]
    }
   ],
   "source": [
    "import pymupdf4llm\n",
    "llama_reader = pymupdf4llm.LlamaMarkdownReader()\n",
    "llama_docs = llama_reader.load_data(\"upload_image.pdf\")\n",
    "print(llama_docs[0].text)"
   ]
  },
  {
   "cell_type": "code",
   "execution_count": null,
   "id": "8cefb089-bb82-40fa-becd-bc99505bba4d",
   "metadata": {},
   "outputs": [],
   "source": [
    "\n"
   ]
  },
  {
   "cell_type": "code",
   "execution_count": null,
   "id": "57110977-c7be-497e-a74f-b19a6d633ced",
   "metadata": {},
   "outputs": [],
   "source": []
  }
 ],
 "metadata": {
  "kernelspec": {
   "display_name": "Python 3 (ipykernel)",
   "language": "python",
   "name": "python3"
  },
  "language_info": {
   "codemirror_mode": {
    "name": "ipython",
    "version": 3
   },
   "file_extension": ".py",
   "mimetype": "text/x-python",
   "name": "python",
   "nbconvert_exporter": "python",
   "pygments_lexer": "ipython3",
   "version": "3.12.4"
  }
 },
 "nbformat": 4,
 "nbformat_minor": 5
}
